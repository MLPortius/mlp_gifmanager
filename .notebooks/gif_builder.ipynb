{
 "cells": [
  {
   "cell_type": "code",
   "execution_count": 1,
   "metadata": {},
   "outputs": [],
   "source": [
    "#%% IMPORTAR LIBRERIAS\n",
    "import os\n",
    "import time\n",
    "import tqdm\n",
    "import argparse\n",
    "import shutil\n",
    "import zipfile\n",
    "\n",
    "import imageio\n",
    "from PIL import Image\n",
    "\n",
    "import warnings\n",
    "warnings.filterwarnings('ignore')\n",
    "\n",
    "from moviepy.editor import VideoFileClip\n",
    "from moviepy.editor import ImageSequenceClip"
   ]
  },
  {
   "cell_type": "code",
   "execution_count": 2,
   "metadata": {},
   "outputs": [],
   "source": [
    "original_wdir = False\n",
    "gif_extension = '.webp'\n",
    "\n",
    "sourcetype = 'webp' # ['webp', 'images', 'video']\n",
    "iszip = False\n",
    "verbose = True\n",
    "\n",
    "infolder = 'gif_builder/' + 'input/' + sourcetype + '/'\n",
    "outfolder = 'gif_builder/output/'"
   ]
  },
  {
   "cell_type": "code",
   "execution_count": 3,
   "metadata": {},
   "outputs": [
    {
     "name": "stdout",
     "output_type": "stream",
     "text": [
      "Change directory: d:\\Users\\Andriu\\Main\\DOCUMENTOS\\3. MACHINE LEARNING\\PYTHON_PROYECTS\\mlp_gifmanager\\.notebooks >>> d:\\Users\\Andriu\\Main\\DOCUMENTOS\\3. MACHINE LEARNING\\PYTHON_PROYECTS\\mlp_gifmanager\n"
     ]
    }
   ],
   "source": [
    "# cambiar directorio de trabajo a la carpeta anterior\n",
    "\n",
    "if original_wdir == False:\n",
    "    original_wdir = os.getcwd()\n",
    "    os.chdir('../')\n",
    "    new_wdir = os.getcwd() \n",
    "\n",
    "else:\n",
    "    os.chdir(original_wdir)\n",
    "    os.chdir('../')\n",
    "    new_wdir = os.getcwd() \n",
    "\n",
    "print('Change directory:', original_wdir, '>>>', new_wdir)\n",
    "# os.chdir(infolder)"
   ]
  },
  {
   "cell_type": "markdown",
   "metadata": {},
   "source": [
    "CARGAR SOURCES"
   ]
  },
  {
   "cell_type": "code",
   "execution_count": 4,
   "metadata": {},
   "outputs": [
    {
     "name": "stderr",
     "output_type": "stream",
     "text": [
      "Loading gif files: 100%|██████████████████████████████████████████████████████| 2/2 [00:00<?, ?it/s]\n"
     ]
    }
   ],
   "source": [
    "input_files = [x for x in os.listdir(infolder) if x.endswith('.webp')]\n",
    "\n",
    "input_names = [x.split('.webp')[0] for x in input_files]\n",
    "input_paths = [infolder +  x for x in input_files]\n",
    "\n",
    "gif_files = []\n",
    "\n",
    "if verbose:\n",
    "    for i in tqdm.tqdm(range(len(input_files)), ncols=100, desc='Loading gif files'):\n",
    "        gif_files.append({'name':input_names[i], 'file':input_files[i], 'input_path':input_paths[i]})\n",
    "else:\n",
    "    for i in range(len(input_files)):\n",
    "        gif_files.append({'name':input_names[i], 'file':input_files[i], 'path':input_paths[i]})\n"
   ]
  },
  {
   "cell_type": "markdown",
   "metadata": {},
   "source": [
    "EXTRAER FRAMES WEBP"
   ]
  },
  {
   "cell_type": "code",
   "execution_count": 18,
   "metadata": {},
   "outputs": [],
   "source": [
    "def extract_frames(gif_metadata, output_folder, use_tqdm):\n",
    "\n",
    "    gif = Image.open(gif_metadata['input_path'])\n",
    "\n",
    "    fmax = Image.open(gif_metadata['input_path']).n_frames\n",
    "    lenght = len(str(fmax))\n",
    "\n",
    "    if use_tqdm:\n",
    "        for i in tqdm.tqdm(range(gif.n_frames), ncols=100):\n",
    "            gif.seek(i)\n",
    "            frame_filename = output_folder + 'frames/' +  gif_metadata['name'] + '_' + str(i+1).zfill(lenght) + '.png'\n",
    "            gif.convert(\"RGBA\").save(frame_filename)\n",
    "    else:\n",
    "        for i in range(gif.n_frames):\n",
    "            gif.seek(i)\n",
    "            frame_filename = output_folder + 'frames/' +  gif_metadata['name'] + '_' + str(i+1).zfill(lenght) + '.png'\n",
    "            gif.convert(\"RGBA\").save(frame_filename)\n",
    "\n",
    "def transform_webp_mpy(gif_metadata, input_folder, output_folder):\n",
    "    webp = ImageSequenceClip(input_folder, fps=24)\n",
    "    webp.write_gif(output_folder + gif_metadata['name'] + '.gif', fps=24, logger=None)\n",
    "\n",
    "\n",
    "def process_webp(gif_metadata, input_folder, output_folder, verbose):\n",
    "\n",
    "    if verbose:\n",
    "        print('Creating temp frames folder ...')\n",
    "    os.mkdir(outfolder + 'frames/')\n",
    "\n",
    "    if verbose:\n",
    "        print('Extracting frames ...')\n",
    "    extract_frames(gif_metadata, output_folder=output_folder, use_tqdm=verbose)\n",
    "\n",
    "    input_folder = output_folder + 'frames/'\n",
    "\n",
    "    if verbose:\n",
    "        print('Transforming frames ...')\n",
    "    transform_webp_mpy(gif_metadata, input_folder, output_folder)\n",
    "\n",
    "    if verbose:\n",
    "        print('Removing temp frames folder ...')\n",
    "    shutil.rmtree(input_folder)"
   ]
  },
  {
   "cell_type": "markdown",
   "metadata": {},
   "source": [
    "CARGAR FRAMES"
   ]
  },
  {
   "cell_type": "code",
   "execution_count": 26,
   "metadata": {},
   "outputs": [
    {
     "name": "stdout",
     "output_type": "stream",
     "text": [
      "\n",
      " ---------------------------------------------- \n",
      "\n",
      "Creating temp frames folder ...\n",
      "Extracting frames ...\n"
     ]
    },
    {
     "name": "stderr",
     "output_type": "stream",
     "text": [
      "100%|███████████████████████████████████████████████████████████████| 24/24 [00:00<00:00, 32.12it/s]\n"
     ]
    },
    {
     "name": "stdout",
     "output_type": "stream",
     "text": [
      "Transforming frames ...\n",
      "Removing temp frames folder ...\n",
      "\n",
      " ---------------------------------------------- \n",
      "\n",
      "Creating temp frames folder ...\n",
      "Extracting frames ...\n"
     ]
    },
    {
     "name": "stderr",
     "output_type": "stream",
     "text": [
      "100%|██████████████████████████████████████████████████████████████| 12/12 [00:00<00:00, 107.39it/s]"
     ]
    },
    {
     "name": "stdout",
     "output_type": "stream",
     "text": [
      "Transforming frames ...\n"
     ]
    },
    {
     "name": "stderr",
     "output_type": "stream",
     "text": [
      "\n"
     ]
    },
    {
     "name": "stdout",
     "output_type": "stream",
     "text": [
      "Removing temp frames folder ...\n",
      "\n",
      "---------------------------------------------- \n",
      " ... Done!\n",
      "---------------------------------------------- \n",
      "\n"
     ]
    }
   ],
   "source": [
    "for g in gif_files:\n",
    "    print('\\n ---------------------------------------------- \\n')\n",
    "    process_webp(g, infolder, outfolder, verbose=verbose)\n",
    "\n",
    "print('\\n---------------------------------------------- ')\n",
    "print(' ... Done!')\n",
    "print('---------------------------------------------- \\n')"
   ]
  }
 ],
 "metadata": {
  "kernelspec": {
   "display_name": "img",
   "language": "python",
   "name": "python3"
  },
  "language_info": {
   "codemirror_mode": {
    "name": "ipython",
    "version": 3
   },
   "file_extension": ".py",
   "mimetype": "text/x-python",
   "name": "python",
   "nbconvert_exporter": "python",
   "pygments_lexer": "ipython3",
   "version": "3.11.7"
  }
 },
 "nbformat": 4,
 "nbformat_minor": 2
}
