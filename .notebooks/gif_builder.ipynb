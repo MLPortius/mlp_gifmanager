{
 "cells": [
  {
   "cell_type": "code",
   "execution_count": 1,
   "metadata": {},
   "outputs": [],
   "source": [
    "#%% IMPORTAR LIBRERIAS\n",
    "import os\n",
    "import time\n",
    "import tqdm\n",
    "import argparse\n",
    "import shutil\n",
    "import zipfile\n",
    "\n",
    "import imageio\n",
    "from PIL import Image\n",
    "\n",
    "import warnings\n",
    "warnings.filterwarnings('ignore')\n",
    "\n",
    "from moviepy.editor import VideoFileClip\n"
   ]
  },
  {
   "cell_type": "code",
   "execution_count": 25,
   "metadata": {},
   "outputs": [],
   "source": [
    "original_wdir = False\n",
    "gif_extension = '.webp'\n",
    "\n",
    "sourcetype = 'webp' # ['webp', 'images', 'video']\n",
    "iszip = False\n",
    "verbose = True\n",
    "\n",
    "infolder = 'gif_builder/' + 'input/' + sourcetype + '/'\n",
    "outfolder = 'gif_builder/output/'"
   ]
  },
  {
   "cell_type": "code",
   "execution_count": 3,
   "metadata": {},
   "outputs": [
    {
     "name": "stdout",
     "output_type": "stream",
     "text": [
      "Change directory: d:\\Users\\Andriu\\Main\\DOCUMENTOS\\3. MACHINE LEARNING\\PYTHON_PROYECTS\\mlp_gifmanager\\.notebooks >>> d:\\Users\\Andriu\\Main\\DOCUMENTOS\\3. MACHINE LEARNING\\PYTHON_PROYECTS\\mlp_gifmanager\n"
     ]
    }
   ],
   "source": [
    "# cambiar directorio de trabajo a la carpeta anterior\n",
    "\n",
    "if original_wdir == False:\n",
    "    original_wdir = os.getcwd()\n",
    "    os.chdir('../')\n",
    "    new_wdir = os.getcwd() \n",
    "\n",
    "else:\n",
    "    os.chdir(original_wdir)\n",
    "    os.chdir('../')\n",
    "    new_wdir = os.getcwd() \n",
    "\n",
    "print('Change directory:', original_wdir, '>>>', new_wdir)\n",
    "# os.chdir(infolder)"
   ]
  },
  {
   "cell_type": "markdown",
   "metadata": {},
   "source": [
    "CARGAR SOURCES"
   ]
  },
  {
   "cell_type": "code",
   "execution_count": 26,
   "metadata": {},
   "outputs": [
    {
     "name": "stderr",
     "output_type": "stream",
     "text": [
      "Loading gif files: 100%|██████████████████████████████████████████████████████| 1/1 [00:00<?, ?it/s]\n"
     ]
    }
   ],
   "source": [
    "input_files = [x for x in os.listdir(infolder) if x.endswith('.webp')]\n",
    "\n",
    "input_names = [x.split('.webp')[0] for x in input_files]\n",
    "input_paths = [infolder +  x for x in input_files]\n",
    "\n",
    "gif_files = []\n",
    "\n",
    "if verbose:\n",
    "    for i in tqdm.tqdm(range(len(input_files)), ncols=100, desc='Loading gif files'):\n",
    "        gif_files.append({'name':input_names[i], 'file':input_files[i], 'input_path':input_paths[i]})\n",
    "else:\n",
    "    for i in range(len(input_files)):\n",
    "        gif_files.append({'name':input_names[i], 'file':input_files[i], 'path':input_paths[i]})\n"
   ]
  },
  {
   "cell_type": "markdown",
   "metadata": {},
   "source": [
    "EXTRAER FRAMES WEBP"
   ]
  },
  {
   "cell_type": "code",
   "execution_count": 15,
   "metadata": {},
   "outputs": [],
   "source": [
    "def extract_frames(gif_metadata, output_folder):\n",
    "    # Abre el archivo GIF\n",
    "    gif = Image.open(gif_metadata['input_path'])\n",
    "\n",
    "    fmax = Image.open(gif_files[0]['input_path']).n_frames\n",
    "    lenght = len(str(fmax))\n",
    "\n",
    "    # Itera sobre cada frame del GIF\n",
    "    for i in range(gif.n_frames):\n",
    "        # Selecciona el frame actual\n",
    "        gif.seek(i)\n",
    "        # Crea un nombre de archivo único para el frame actual\n",
    "        frame_filename = output_folder + 'frames/' +  gif_metadata['name'] + '_' + str(i+1).zfill(lenght) + '.png'\n",
    "        # Guarda el frame actual como un archivo PNG\n",
    "        gif.convert(\"RGBA\").save(frame_filename)"
   ]
  },
  {
   "cell_type": "code",
   "execution_count": 16,
   "metadata": {},
   "outputs": [],
   "source": [
    "os.mkdir(outfolder + 'frames/')"
   ]
  },
  {
   "cell_type": "code",
   "execution_count": 17,
   "metadata": {},
   "outputs": [],
   "source": [
    "extract_frames(gif_files[0], outfolder)"
   ]
  },
  {
   "cell_type": "markdown",
   "metadata": {},
   "source": [
    "CARGAR FRAMES"
   ]
  },
  {
   "cell_type": "code",
   "execution_count": 29,
   "metadata": {},
   "outputs": [],
   "source": [
    "def transform_webp_pil(gif_metadata):\n",
    "    im = Image.open(gif_metadata['input_path'])\n",
    "    im.info.pop('background', None)\n",
    "    im = im.convert('RGB').convert('P', palette=Image.ADAPTIVE, colors=255)\n",
    "    im.save(outfolder + 'result.gif', 'gif', save_all=True, lossless=True, quality=100, method=6)"
   ]
  },
  {
   "cell_type": "code",
   "execution_count": 30,
   "metadata": {},
   "outputs": [],
   "source": [
    "transform_webp_pil(gif_files[0])"
   ]
  },
  {
   "cell_type": "code",
   "execution_count": 63,
   "metadata": {},
   "outputs": [],
   "source": [
    "def transform_webp_pil(gif_metadata):\n",
    "    im = Image.open(gif_metadata['input_path'])\n",
    "    \n",
    "    alpha = im.split()[-1]\n",
    "    im.putalpha(alpha)\n",
    "    im.info.pop('background', None)\n",
    "    \n",
    "    mask = Image.eval(alpha, lambda a: 255 if a <= 128 else 0)\n",
    "    im.paste(255, mask)\n",
    "    im.info['transparency'] = 255\n",
    "    \n",
    "    output_path = outfolder + gif_metadata['name'] + '.gif'\n",
    "    im.save(output_path, 'gif', save_all=True)"
   ]
  },
  {
   "cell_type": "code",
   "execution_count": 64,
   "metadata": {},
   "outputs": [],
   "source": [
    "transform_webp_pil(gif_files[0])"
   ]
  },
  {
   "cell_type": "code",
   "execution_count": 69,
   "metadata": {},
   "outputs": [],
   "source": [
    "webp = imageio.imread('gif_builder/input/webp/demo.webp')\n",
    "gif = imageio.imread('gif_builder/output/demo1.gif') "
   ]
  },
  {
   "cell_type": "code",
   "execution_count": 71,
   "metadata": {},
   "outputs": [],
   "source": [
    "from moviepy.editor import ImageSequenceClip"
   ]
  },
  {
   "cell_type": "code",
   "execution_count": 81,
   "metadata": {},
   "outputs": [
    {
     "name": "stdout",
     "output_type": "stream",
     "text": [
      "Moviepy - Building video gif_builder/output/video.mp4.\n",
      "Moviepy - Writing video gif_builder/output/video.mp4\n",
      "\n"
     ]
    },
    {
     "name": "stderr",
     "output_type": "stream",
     "text": [
      "                                                  "
     ]
    },
    {
     "name": "stdout",
     "output_type": "stream",
     "text": [
      "Moviepy - Done !\n",
      "Moviepy - video ready gif_builder/output/video.mp4\n"
     ]
    },
    {
     "name": "stderr",
     "output_type": "stream",
     "text": [
      "\r"
     ]
    }
   ],
   "source": [
    "webp = ImageSequenceClip('gif_builder/input/webp/', fps=24)\n",
    "# webp.write_gif('gif_builder/output/demo1.gif', fps=24)\n",
    "webp.write_videofile(\"gif_builder/output/video.mp4\", bitrate=\"3000k\", fps=24)"
   ]
  },
  {
   "cell_type": "code",
   "execution_count": null,
   "metadata": {},
   "outputs": [],
   "source": [
    "    alpha = img.split()[-1]\n",
    "    img.putalpha(alpha)\n",
    "    img.info.pop('background', None)\n",
    "\n",
    "    # the below convert method seems to output a single frame rather than the entire gif\n",
    "    # perhaps, there is a simple method that converts every gif frame?\n",
    "    # img = img.convert('RGB').convert('P', palette=Image.ADAPTIVE, colors=255)\n",
    "\n",
    "    mask = Image.eval(alpha, lambda a: 255 if a <= 128 else 0)\n",
    "    img.paste(255, mask)\n",
    "    img.info['transparency'] = 255\n",
    "\n",
    "    img.save(f'{fname}.gif', 'gif', save_all=True)\n",
    "    return img"
   ]
  },
  {
   "cell_type": "code",
   "execution_count": 51,
   "metadata": {},
   "outputs": [],
   "source": [
    "def transform_webp(gif_metadata):\n",
    "\n",
    "    # reader = imageio.get_reader(gif_metadata['input_path'])\n",
    "    # images = list(reader)\n",
    "\n",
    "    # imageio.mimsave(gif_metadata['output_path'], images, format = 'GIF')\n",
    "\n",
    "    clip = VideoFileClip(gif_metadata['input_path'])\n",
    "    clip.write_gif(outfolder + gif_metadata['name'] + '.gif')"
   ]
  },
  {
   "cell_type": "code",
   "execution_count": 54,
   "metadata": {},
   "outputs": [
    {
     "ename": "OSError",
     "evalue": "MoviePy error: failed to read the duration of file gif_builder/input/webp/demo.webp.\nHere are the file infos returned by ffmpeg:\n\nffmpeg version 4.2.2 Copyright (c) 2000-2019 the FFmpeg developers\r\n  built with gcc 9.2.1 (GCC) 20200122\r\n  configuration: --enable-gpl --enable-version3 --enable-sdl2 --enable-fontconfig --enable-gnutls --enable-iconv --enable-libass --enable-libdav1d --enable-libbluray --enable-libfreetype --enable-libmp3lame --enable-libopencore-amrnb --enable-libopencore-amrwb --enable-libopenjpeg --enable-libopus --enable-libshine --enable-libsnappy --enable-libsoxr --enable-libtheora --enable-libtwolame --enable-libvpx --enable-libwavpack --enable-libwebp --enable-libx264 --enable-libx265 --enable-libxml2 --enable-libzimg --enable-lzma --enable-zlib --enable-gmp --enable-libvidstab --enable-libvorbis --enable-libvo-amrwbenc --enable-libmysofa --enable-libspeex --enable-libxvid --enable-libaom --enable-libmfx --enable-amf --enable-ffnvcodec --enable-cuvid --enable-d3d11va --enable-nvenc --enable-nvdec --enable-dxva2 --enable-avisynth --enable-libopenmpt\r\n  libavutil      56. 31.100 / 56. 31.100\r\n  libavcodec     58. 54.100 / 58. 54.100\r\n  libavformat    58. 29.100 / 58. 29.100\r\n  libavdevice    58.  8.100 / 58.  8.100\r\n  libavfilter     7. 57.100 /  7. 57.100\r\n  libswscale      5.  5.100 /  5.  5.100\r\n  libswresample   3.  5.100 /  3.  5.100\r\n  libpostproc    55.  5.100 / 55.  5.100\r\n[webp @ 0000029053f7b680] skipping unsupported chunk: ANIM\r\n[webp @ 0000029053f7b680] skipping unsupported chunk: ANMF\r\n    Last message repeated 23 times\r\n[webp @ 0000029053f7b680] image data not found\r\n[webp_pipe @ 0000029053f69200] decoding for stream 0 failed\r\n[webp_pipe @ 0000029053f69200] Could not find codec parameters for stream 0 (Video: webp, none): unspecified size\r\nConsider increasing the value for the 'analyzeduration' and 'probesize' options\r\nInput #0, webp_pipe, from 'gif_builder/input/webp/demo.webp':\r\n  Duration: N/A, bitrate: N/A\r\n    Stream #0:0: Video: webp, none, 25 tbr, 25 tbn, 25 tbc\r\nAt least one output file must be specified\r\n",
     "output_type": "error",
     "traceback": [
      "\u001b[1;31m---------------------------------------------------------------------------\u001b[0m",
      "\u001b[1;31mIndexError\u001b[0m                                Traceback (most recent call last)",
      "File \u001b[1;32mc:\\Users\\Andriu\\anaconda3\\envs\\img\\Lib\\site-packages\\moviepy\\video\\io\\ffmpeg_reader.py:286\u001b[0m, in \u001b[0;36mffmpeg_parse_infos\u001b[1;34m(filename, print_infos, check_duration, fps_source)\u001b[0m\n\u001b[0;32m    285\u001b[0m line \u001b[38;5;241m=\u001b[39m [l \u001b[38;5;28;01mfor\u001b[39;00m l \u001b[38;5;129;01min\u001b[39;00m lines \u001b[38;5;28;01mif\u001b[39;00m keyword \u001b[38;5;129;01min\u001b[39;00m l][index]\n\u001b[1;32m--> 286\u001b[0m match \u001b[38;5;241m=\u001b[39m \u001b[43mre\u001b[49m\u001b[38;5;241;43m.\u001b[39;49m\u001b[43mfindall\u001b[49m\u001b[43m(\u001b[49m\u001b[38;5;124;43m\"\u001b[39;49m\u001b[38;5;124;43m([0-9][0-9]:[0-9][0-9]:[0-9][0-9].[0-9][0-9])\u001b[39;49m\u001b[38;5;124;43m\"\u001b[39;49m\u001b[43m,\u001b[49m\u001b[43m \u001b[49m\u001b[43mline\u001b[49m\u001b[43m)\u001b[49m\u001b[43m[\u001b[49m\u001b[38;5;241;43m0\u001b[39;49m\u001b[43m]\u001b[49m\n\u001b[0;32m    287\u001b[0m result[\u001b[38;5;124m'\u001b[39m\u001b[38;5;124mduration\u001b[39m\u001b[38;5;124m'\u001b[39m] \u001b[38;5;241m=\u001b[39m cvsecs(match)\n",
      "\u001b[1;31mIndexError\u001b[0m: list index out of range",
      "\nDuring handling of the above exception, another exception occurred:\n",
      "\u001b[1;31mOSError\u001b[0m                                   Traceback (most recent call last)",
      "Cell \u001b[1;32mIn[54], line 1\u001b[0m\n\u001b[1;32m----> 1\u001b[0m \u001b[43mtransform_webp\u001b[49m\u001b[43m(\u001b[49m\u001b[43mgif_files\u001b[49m\u001b[43m[\u001b[49m\u001b[38;5;241;43m0\u001b[39;49m\u001b[43m]\u001b[49m\u001b[43m)\u001b[49m\n",
      "Cell \u001b[1;32mIn[51], line 8\u001b[0m, in \u001b[0;36mtransform_webp\u001b[1;34m(gif_metadata)\u001b[0m\n\u001b[0;32m      1\u001b[0m \u001b[38;5;28;01mdef\u001b[39;00m \u001b[38;5;21mtransform_webp\u001b[39m(gif_metadata):\n\u001b[0;32m      2\u001b[0m \n\u001b[0;32m      3\u001b[0m     \u001b[38;5;66;03m# reader = imageio.get_reader(gif_metadata['input_path'])\u001b[39;00m\n\u001b[0;32m      4\u001b[0m     \u001b[38;5;66;03m# images = list(reader)\u001b[39;00m\n\u001b[0;32m      5\u001b[0m \n\u001b[0;32m      6\u001b[0m     \u001b[38;5;66;03m# imageio.mimsave(gif_metadata['output_path'], images, format = 'GIF')\u001b[39;00m\n\u001b[1;32m----> 8\u001b[0m     clip \u001b[38;5;241m=\u001b[39m \u001b[43mVideoFileClip\u001b[49m\u001b[43m(\u001b[49m\u001b[43mgif_metadata\u001b[49m\u001b[43m[\u001b[49m\u001b[38;5;124;43m'\u001b[39;49m\u001b[38;5;124;43minput_path\u001b[39;49m\u001b[38;5;124;43m'\u001b[39;49m\u001b[43m]\u001b[49m\u001b[43m)\u001b[49m\n\u001b[0;32m      9\u001b[0m     clip\u001b[38;5;241m.\u001b[39mwrite_gif(outfolder \u001b[38;5;241m+\u001b[39m gif_metadata[\u001b[38;5;124m'\u001b[39m\u001b[38;5;124mname\u001b[39m\u001b[38;5;124m'\u001b[39m] \u001b[38;5;241m+\u001b[39m \u001b[38;5;124m'\u001b[39m\u001b[38;5;124m.gif\u001b[39m\u001b[38;5;124m'\u001b[39m)\n",
      "File \u001b[1;32mc:\\Users\\Andriu\\anaconda3\\envs\\img\\Lib\\site-packages\\moviepy\\video\\io\\VideoFileClip.py:88\u001b[0m, in \u001b[0;36mVideoFileClip.__init__\u001b[1;34m(self, filename, has_mask, audio, audio_buffersize, target_resolution, resize_algorithm, audio_fps, audio_nbytes, verbose, fps_source)\u001b[0m\n\u001b[0;32m     86\u001b[0m \u001b[38;5;66;03m# Make a reader\u001b[39;00m\n\u001b[0;32m     87\u001b[0m pix_fmt \u001b[38;5;241m=\u001b[39m \u001b[38;5;124m\"\u001b[39m\u001b[38;5;124mrgba\u001b[39m\u001b[38;5;124m\"\u001b[39m \u001b[38;5;28;01mif\u001b[39;00m has_mask \u001b[38;5;28;01melse\u001b[39;00m \u001b[38;5;124m\"\u001b[39m\u001b[38;5;124mrgb24\u001b[39m\u001b[38;5;124m\"\u001b[39m\n\u001b[1;32m---> 88\u001b[0m \u001b[38;5;28mself\u001b[39m\u001b[38;5;241m.\u001b[39mreader \u001b[38;5;241m=\u001b[39m \u001b[43mFFMPEG_VideoReader\u001b[49m\u001b[43m(\u001b[49m\u001b[43mfilename\u001b[49m\u001b[43m,\u001b[49m\u001b[43m \u001b[49m\u001b[43mpix_fmt\u001b[49m\u001b[38;5;241;43m=\u001b[39;49m\u001b[43mpix_fmt\u001b[49m\u001b[43m,\u001b[49m\n\u001b[0;32m     89\u001b[0m \u001b[43m                                 \u001b[49m\u001b[43mtarget_resolution\u001b[49m\u001b[38;5;241;43m=\u001b[39;49m\u001b[43mtarget_resolution\u001b[49m\u001b[43m,\u001b[49m\n\u001b[0;32m     90\u001b[0m \u001b[43m                                 \u001b[49m\u001b[43mresize_algo\u001b[49m\u001b[38;5;241;43m=\u001b[39;49m\u001b[43mresize_algorithm\u001b[49m\u001b[43m,\u001b[49m\n\u001b[0;32m     91\u001b[0m \u001b[43m                                 \u001b[49m\u001b[43mfps_source\u001b[49m\u001b[38;5;241;43m=\u001b[39;49m\u001b[43mfps_source\u001b[49m\u001b[43m)\u001b[49m\n\u001b[0;32m     93\u001b[0m \u001b[38;5;66;03m# Make some of the reader's attributes accessible from the clip\u001b[39;00m\n\u001b[0;32m     94\u001b[0m \u001b[38;5;28mself\u001b[39m\u001b[38;5;241m.\u001b[39mduration \u001b[38;5;241m=\u001b[39m \u001b[38;5;28mself\u001b[39m\u001b[38;5;241m.\u001b[39mreader\u001b[38;5;241m.\u001b[39mduration\n",
      "File \u001b[1;32mc:\\Users\\Andriu\\anaconda3\\envs\\img\\Lib\\site-packages\\moviepy\\video\\io\\ffmpeg_reader.py:35\u001b[0m, in \u001b[0;36mFFMPEG_VideoReader.__init__\u001b[1;34m(self, filename, print_infos, bufsize, pix_fmt, check_duration, target_resolution, resize_algo, fps_source)\u001b[0m\n\u001b[0;32m     33\u001b[0m \u001b[38;5;28mself\u001b[39m\u001b[38;5;241m.\u001b[39mfilename \u001b[38;5;241m=\u001b[39m filename\n\u001b[0;32m     34\u001b[0m \u001b[38;5;28mself\u001b[39m\u001b[38;5;241m.\u001b[39mproc \u001b[38;5;241m=\u001b[39m \u001b[38;5;28;01mNone\u001b[39;00m\n\u001b[1;32m---> 35\u001b[0m infos \u001b[38;5;241m=\u001b[39m \u001b[43mffmpeg_parse_infos\u001b[49m\u001b[43m(\u001b[49m\u001b[43mfilename\u001b[49m\u001b[43m,\u001b[49m\u001b[43m \u001b[49m\u001b[43mprint_infos\u001b[49m\u001b[43m,\u001b[49m\u001b[43m \u001b[49m\u001b[43mcheck_duration\u001b[49m\u001b[43m,\u001b[49m\n\u001b[0;32m     36\u001b[0m \u001b[43m                           \u001b[49m\u001b[43mfps_source\u001b[49m\u001b[43m)\u001b[49m\n\u001b[0;32m     37\u001b[0m \u001b[38;5;28mself\u001b[39m\u001b[38;5;241m.\u001b[39mfps \u001b[38;5;241m=\u001b[39m infos[\u001b[38;5;124m'\u001b[39m\u001b[38;5;124mvideo_fps\u001b[39m\u001b[38;5;124m'\u001b[39m]\n\u001b[0;32m     38\u001b[0m \u001b[38;5;28mself\u001b[39m\u001b[38;5;241m.\u001b[39msize \u001b[38;5;241m=\u001b[39m infos[\u001b[38;5;124m'\u001b[39m\u001b[38;5;124mvideo_size\u001b[39m\u001b[38;5;124m'\u001b[39m]\n",
      "File \u001b[1;32mc:\\Users\\Andriu\\anaconda3\\envs\\img\\Lib\\site-packages\\moviepy\\video\\io\\ffmpeg_reader.py:289\u001b[0m, in \u001b[0;36mffmpeg_parse_infos\u001b[1;34m(filename, print_infos, check_duration, fps_source)\u001b[0m\n\u001b[0;32m    287\u001b[0m         result[\u001b[38;5;124m'\u001b[39m\u001b[38;5;124mduration\u001b[39m\u001b[38;5;124m'\u001b[39m] \u001b[38;5;241m=\u001b[39m cvsecs(match)\n\u001b[0;32m    288\u001b[0m     \u001b[38;5;28;01mexcept\u001b[39;00m:\n\u001b[1;32m--> 289\u001b[0m         \u001b[38;5;28;01mraise\u001b[39;00m \u001b[38;5;167;01mIOError\u001b[39;00m((\u001b[38;5;124m\"\u001b[39m\u001b[38;5;124mMoviePy error: failed to read the duration of file \u001b[39m\u001b[38;5;132;01m%s\u001b[39;00m\u001b[38;5;124m.\u001b[39m\u001b[38;5;130;01m\\n\u001b[39;00m\u001b[38;5;124m\"\u001b[39m\n\u001b[0;32m    290\u001b[0m                        \u001b[38;5;124m\"\u001b[39m\u001b[38;5;124mHere are the file infos returned by ffmpeg:\u001b[39m\u001b[38;5;130;01m\\n\u001b[39;00m\u001b[38;5;130;01m\\n\u001b[39;00m\u001b[38;5;132;01m%s\u001b[39;00m\u001b[38;5;124m\"\u001b[39m)\u001b[38;5;241m%\u001b[39m(\n\u001b[0;32m    291\u001b[0m                           filename, infos))\n\u001b[0;32m    293\u001b[0m \u001b[38;5;66;03m# get the output line that speaks about video\u001b[39;00m\n\u001b[0;32m    294\u001b[0m lines_video \u001b[38;5;241m=\u001b[39m [l \u001b[38;5;28;01mfor\u001b[39;00m l \u001b[38;5;129;01min\u001b[39;00m lines \u001b[38;5;28;01mif\u001b[39;00m \u001b[38;5;124m'\u001b[39m\u001b[38;5;124m Video: \u001b[39m\u001b[38;5;124m'\u001b[39m \u001b[38;5;129;01min\u001b[39;00m l \u001b[38;5;129;01mand\u001b[39;00m re\u001b[38;5;241m.\u001b[39msearch(\u001b[38;5;124m'\u001b[39m\u001b[38;5;124m\\\u001b[39m\u001b[38;5;124md+x\u001b[39m\u001b[38;5;124m\\\u001b[39m\u001b[38;5;124md+\u001b[39m\u001b[38;5;124m'\u001b[39m, l)]\n",
      "\u001b[1;31mOSError\u001b[0m: MoviePy error: failed to read the duration of file gif_builder/input/webp/demo.webp.\nHere are the file infos returned by ffmpeg:\n\nffmpeg version 4.2.2 Copyright (c) 2000-2019 the FFmpeg developers\r\n  built with gcc 9.2.1 (GCC) 20200122\r\n  configuration: --enable-gpl --enable-version3 --enable-sdl2 --enable-fontconfig --enable-gnutls --enable-iconv --enable-libass --enable-libdav1d --enable-libbluray --enable-libfreetype --enable-libmp3lame --enable-libopencore-amrnb --enable-libopencore-amrwb --enable-libopenjpeg --enable-libopus --enable-libshine --enable-libsnappy --enable-libsoxr --enable-libtheora --enable-libtwolame --enable-libvpx --enable-libwavpack --enable-libwebp --enable-libx264 --enable-libx265 --enable-libxml2 --enable-libzimg --enable-lzma --enable-zlib --enable-gmp --enable-libvidstab --enable-libvorbis --enable-libvo-amrwbenc --enable-libmysofa --enable-libspeex --enable-libxvid --enable-libaom --enable-libmfx --enable-amf --enable-ffnvcodec --enable-cuvid --enable-d3d11va --enable-nvenc --enable-nvdec --enable-dxva2 --enable-avisynth --enable-libopenmpt\r\n  libavutil      56. 31.100 / 56. 31.100\r\n  libavcodec     58. 54.100 / 58. 54.100\r\n  libavformat    58. 29.100 / 58. 29.100\r\n  libavdevice    58.  8.100 / 58.  8.100\r\n  libavfilter     7. 57.100 /  7. 57.100\r\n  libswscale      5.  5.100 /  5.  5.100\r\n  libswresample   3.  5.100 /  3.  5.100\r\n  libpostproc    55.  5.100 / 55.  5.100\r\n[webp @ 0000029053f7b680] skipping unsupported chunk: ANIM\r\n[webp @ 0000029053f7b680] skipping unsupported chunk: ANMF\r\n    Last message repeated 23 times\r\n[webp @ 0000029053f7b680] image data not found\r\n[webp_pipe @ 0000029053f69200] decoding for stream 0 failed\r\n[webp_pipe @ 0000029053f69200] Could not find codec parameters for stream 0 (Video: webp, none): unspecified size\r\nConsider increasing the value for the 'analyzeduration' and 'probesize' options\r\nInput #0, webp_pipe, from 'gif_builder/input/webp/demo.webp':\r\n  Duration: N/A, bitrate: N/A\r\n    Stream #0:0: Video: webp, none, 25 tbr, 25 tbn, 25 tbc\r\nAt least one output file must be specified\r\n"
     ]
    }
   ],
   "source": [
    "transform_webp(gif_files[0])"
   ]
  }
 ],
 "metadata": {
  "kernelspec": {
   "display_name": "img",
   "language": "python",
   "name": "python3"
  },
  "language_info": {
   "codemirror_mode": {
    "name": "ipython",
    "version": 3
   },
   "file_extension": ".py",
   "mimetype": "text/x-python",
   "name": "python",
   "nbconvert_exporter": "python",
   "pygments_lexer": "ipython3",
   "version": "3.11.7"
  }
 },
 "nbformat": 4,
 "nbformat_minor": 2
}
