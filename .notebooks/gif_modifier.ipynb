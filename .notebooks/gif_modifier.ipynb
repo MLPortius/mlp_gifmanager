{
 "cells": [
  {
   "cell_type": "code",
   "execution_count": 19,
   "metadata": {},
   "outputs": [],
   "source": [
    "#%% IMPORTAR LIBRERIAS\n",
    "import os\n",
    "import time\n",
    "import tqdm\n",
    "import argparse\n",
    "import shutil\n",
    "import zipfile\n",
    "\n",
    "import imageio\n",
    "\n",
    "import warnings\n",
    "warnings.filterwarnings('ignore')\n",
    "\n",
    "from moviepy.editor import VideoFileClip\n"
   ]
  },
  {
   "cell_type": "code",
   "execution_count": 20,
   "metadata": {},
   "outputs": [],
   "source": [
    "#%% CONFIGURAR ENTORNO\n",
    "\n",
    "original_wdir = False\n",
    "\n",
    "infolder = 'gif_modifier/input/'\n",
    "outfolder = 'gif_modifier/output/'"
   ]
  },
  {
   "cell_type": "code",
   "execution_count": 3,
   "metadata": {},
   "outputs": [
    {
     "name": "stdout",
     "output_type": "stream",
     "text": [
      "Change directory: d:\\Users\\Andriu\\Main\\DOCUMENTOS\\3. MACHINE LEARNING\\PYTHON_PROYECTS\\mlp_gifmanager\\.notebooks >>> d:\\Users\\Andriu\\Main\\DOCUMENTOS\\3. MACHINE LEARNING\\PYTHON_PROYECTS\\mlp_gifmanager\n"
     ]
    }
   ],
   "source": [
    "# cambiar directorio de trabajo a la carpeta anterior\n",
    "\n",
    "if original_wdir == False:\n",
    "    original_wdir = os.getcwd()\n",
    "    os.chdir('../')\n",
    "    new_wdir = os.getcwd() \n",
    "\n",
    "else:\n",
    "    os.chdir(original_wdir)\n",
    "    os.chdir('../')\n",
    "    new_wdir = os.getcwd() \n",
    "\n",
    "print('Change directory:', original_wdir, '>>>', new_wdir)\n",
    "# os.chdir(infolder)"
   ]
  },
  {
   "cell_type": "code",
   "execution_count": 36,
   "metadata": {},
   "outputs": [],
   "source": [
    "ifilter = False\n",
    "imgfilter = None # ['bnw']\n",
    "\n",
    "mirror = False\n",
    "mirrordir = 'h' # ['h', 'v']\n",
    "\n",
    "rotate = False\n",
    "rotate_dir = 'left' # ['left', 'right']\n",
    "rotate_times = None\n",
    "\n",
    "cspeed = False\n",
    "cspeed_factor = 1\n",
    "\n",
    "extend = True\n",
    "extend_times = 5\n",
    "extend_keepspeed = False\n",
    "\n",
    "bounce = True\n",
    "apply_bounce = 'first' # ['first', 'last']\n",
    "bounce_cut = 4"
   ]
  },
  {
   "cell_type": "code",
   "execution_count": 39,
   "metadata": {},
   "outputs": [],
   "source": [
    "def extend_it(gif, etimes):\n",
    "    output = gif * etimes\n",
    "    return output\n",
    "\n",
    "def bounce_it(gif, cut):\n",
    "    output = gif + gif[:-cut][::-1]\n",
    "    return output\n",
    "\n",
    "def get_fps(path):\n",
    "\n",
    "    reader = imageio.get_reader(path)\n",
    "\n",
    "    frames = reader.get_length()\n",
    "\n",
    "    frame_ms = reader.get_meta_data()['duration']\n",
    "    total_ms = frames * frame_ms\n",
    "    total_sec = total_ms / 1000\n",
    "\n",
    "    fps = frames/total_sec\n",
    "    \n",
    "    return fps\n",
    "\n",
    "def speed_it(fps, factor):\n",
    "    output = fps * factor\n",
    "    return output\n",
    "\n",
    "def load_gif(path):\n",
    "    output = imageio.mimread(path)\n",
    "    return output\n",
    "\n",
    "def save_gif(gif, path, fps_value):\n",
    "    imageio.mimsave(path, gif, format='GIF', fps=fps_value)"
   ]
  },
  {
   "cell_type": "code",
   "execution_count": 40,
   "metadata": {},
   "outputs": [
    {
     "name": "stdout",
     "output_type": "stream",
     "text": [
      "\n",
      "Working on: demo.gif\n",
      "     Loading file ...\n",
      "     Bouncing gif ...\n"
     ]
    },
    {
     "ename": "NameError",
     "evalue": "name 'bounce_cut' is not defined",
     "output_type": "error",
     "traceback": [
      "\u001b[1;31m---------------------------------------------------------------------------\u001b[0m",
      "\u001b[1;31mNameError\u001b[0m                                 Traceback (most recent call last)",
      "Cell \u001b[1;32mIn[40], line 34\u001b[0m\n\u001b[0;32m     32\u001b[0m \u001b[38;5;28;01mif\u001b[39;00m bounce:\n\u001b[0;32m     33\u001b[0m     \u001b[38;5;28mprint\u001b[39m(\u001b[38;5;124m'\u001b[39m\u001b[38;5;124m     Bouncing gif ...\u001b[39m\u001b[38;5;124m'\u001b[39m)\n\u001b[1;32m---> 34\u001b[0m     g \u001b[38;5;241m=\u001b[39m bounce_it(g, \u001b[43mbounce_cut\u001b[49m)\n\u001b[0;32m     36\u001b[0m \u001b[38;5;28;01mif\u001b[39;00m extend:\n\u001b[0;32m     37\u001b[0m     \u001b[38;5;28mprint\u001b[39m(\u001b[38;5;124m'\u001b[39m\u001b[38;5;124m     Extending gif (\u001b[39m\u001b[38;5;124m'\u001b[39m, extend_times, \u001b[38;5;124m'\u001b[39m\u001b[38;5;124m) times ...\u001b[39m\u001b[38;5;124m'\u001b[39m)\n",
      "\u001b[1;31mNameError\u001b[0m: name 'bounce_cut' is not defined"
     ]
    }
   ],
   "source": [
    "input_files = [x for x in os.listdir(infolder) if x.endswith('.gif')]\n",
    "\n",
    "input_paths = [infolder + x for x in input_files]\n",
    "output_paths = [outfolder + x for x in input_files]\n",
    "\n",
    "for i in range(len(input_files)):\n",
    "\n",
    "    print('\\nWorking on:', input_files[i])\n",
    "\n",
    "    print('     Loading file ...')\n",
    "    g = load_gif(input_paths[i])\n",
    "    ofps = get_fps(input_paths[i])\n",
    "\n",
    "    if cspeed:\n",
    "        print('     Changing gif speed (', cspeed_factor, ') times ...')\n",
    "        nfps = speed_it(ofps, cspeed_factor)\n",
    "\n",
    "    if bounce & extend:\n",
    "\n",
    "        if apply_bounce == 'last':\n",
    "        \n",
    "            if extend:\n",
    "                print('     Extending gif (', extend_times, ') times ...')\n",
    "                g = extend_it(g, extend_times)\n",
    "        \n",
    "            if bounce:\n",
    "                print('     Bouncing gif ...')\n",
    "                g = bounce_it(g, bounce_cut)\n",
    "        \n",
    "        elif apply_bounce == 'first':\n",
    "        \n",
    "            if bounce:\n",
    "                print('     Bouncing gif ...')\n",
    "                g = bounce_it(g, bounce_cut)\n",
    "        \n",
    "            if extend:\n",
    "                print('     Extending gif (', extend_times, ') times ...')\n",
    "                g = extend_it(g, extend_times)\n",
    "\n",
    "        else:\n",
    "            print('\\nERROR: INVALID APPLY BOUNCE ARGUMENT ...')\n",
    "        \n",
    "    elif bounce:\n",
    "        print('     Bouncing gif ...')\n",
    "        g = bounce_it(g, bounce_cut)\n",
    "    \n",
    "    elif extend:\n",
    "        print('     Extending gif (', extend_times, ') times ...')\n",
    "        g = extend_it(g, extend_times)\n",
    "    \n",
    "    else:\n",
    "        print('\\nERROR: NONE OPERATION REQUIRED ...')\n",
    "        exit()\n",
    "    \n",
    "    print('     Saving file ...')\n",
    "    if cspeed:\n",
    "        save_gif(g, output_paths[i], nfps)\n",
    "    else:\n",
    "        save_gif(g, output_paths[i], ofps)\n",
    "            \n",
    "    print('\\n -------------------------------- ')\n",
    "\n",
    "print('     ... DONE!')\n"
   ]
  }
 ],
 "metadata": {
  "kernelspec": {
   "display_name": "img",
   "language": "python",
   "name": "python3"
  },
  "language_info": {
   "codemirror_mode": {
    "name": "ipython",
    "version": 3
   },
   "file_extension": ".py",
   "mimetype": "text/x-python",
   "name": "python",
   "nbconvert_exporter": "python",
   "pygments_lexer": "ipython3",
   "version": "3.11.7"
  }
 },
 "nbformat": 4,
 "nbformat_minor": 2
}
