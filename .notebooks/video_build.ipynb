{
 "cells": [
  {
   "cell_type": "code",
   "execution_count": 41,
   "metadata": {},
   "outputs": [],
   "source": [
    "#%% IMPORTAR LIBRERIAS\n",
    "import os\n",
    "import time\n",
    "import tqdm\n",
    "import argparse\n",
    "import shutil\n",
    "import zipfile\n",
    "\n",
    "import warnings\n",
    "warnings.filterwarnings('ignore')\n",
    "\n",
    "from moviepy.editor import VideoFileClip\n"
   ]
  },
  {
   "cell_type": "code",
   "execution_count": 42,
   "metadata": {},
   "outputs": [],
   "source": [
    "#%% CONFIGURAR ENTORNO\n",
    "infolder = 'video_builder/input/'\n",
    "outfolder = 'video_builder/output/'"
   ]
  },
  {
   "cell_type": "code",
   "execution_count": 3,
   "metadata": {},
   "outputs": [
    {
     "name": "stdout",
     "output_type": "stream",
     "text": [
      "Change directory: d:\\Users\\Andriu\\Main\\DOCUMENTOS\\3. MACHINE LEARNING\\PYTHON_PROYECTS\\mlp_gifmanager\\.notebooks >>> d:\\Users\\Andriu\\Main\\DOCUMENTOS\\3. MACHINE LEARNING\\PYTHON_PROYECTS\\mlp_gifmanager\n"
     ]
    }
   ],
   "source": [
    "# cambiar directorio de trabajo a la carpeta anterior\n",
    "original_wdir = os.getcwd()\n",
    "os.chdir('../')\n",
    "new_wdir = os.getcwd() \n",
    "\n",
    "print('Change directory:', original_wdir, '>>>', new_wdir)\n",
    "# os.chdir(infolder)"
   ]
  },
  {
   "cell_type": "code",
   "execution_count": 43,
   "metadata": {},
   "outputs": [],
   "source": [
    "sourcetype = 'gif' # ['zip', 'gif']"
   ]
  },
  {
   "cell_type": "code",
   "execution_count": 45,
   "metadata": {},
   "outputs": [],
   "source": [
    "def unzip_file(inpath, outpath):\n",
    "    with zipfile.ZipFile(inpath, 'r') as zip_ref:\n",
    "        zip_ref.extractall(outpath)\n",
    "\n",
    "def create_video(input, output):\n",
    "    clip = VideoFileClip(input)\n",
    "    clip.write_videofile(output, codec='libx264')\n",
    "    clip.close()"
   ]
  },
  {
   "cell_type": "code",
   "execution_count": 46,
   "metadata": {},
   "outputs": [
    {
     "name": "stderr",
     "output_type": "stream",
     "text": [
      "Loading gif files: 100%|██████████████████████████████████████████████████████| 4/4 [00:00<?, ?it/s]\n"
     ]
    },
    {
     "data": {
      "text/plain": [
       "[{'name': 'demo1',\n",
       "  'file': 'demo1.gif',\n",
       "  'path': 'video_builder/input/demo1.gif'},\n",
       " {'name': 'demo2',\n",
       "  'file': 'demo2.gif',\n",
       "  'path': 'video_builder/input/demo2.gif'},\n",
       " {'name': 'nsfw1',\n",
       "  'file': 'nsfw1.gif',\n",
       "  'path': 'video_builder/input/nsfw1.gif'},\n",
       " {'name': 'nsfw2',\n",
       "  'file': 'nsfw2.gif',\n",
       "  'path': 'video_builder/input/nsfw2.gif'}]"
      ]
     },
     "execution_count": 46,
     "metadata": {},
     "output_type": "execute_result"
    }
   ],
   "source": [
    "# Si es zip, crear una carpeta:\n",
    "\n",
    "if sourcetype == 'zip':\n",
    "    try:\n",
    "        unzip_exists = os.path.isdir(infolder + 'unzip/')\n",
    "    except:\n",
    "        unzip_exists = False\n",
    "\n",
    "    if unzip_exists:\n",
    "        shutil.rmtree(infolder + 'unzip/')\n",
    "    else:\n",
    "        os.mkdir(infolder + 'unzip/')\n",
    "\n",
    "input_files = os.listdir(infolder)\n",
    "\n",
    "# Leer carpeta de archivos\n",
    "\n",
    "if sourcetype == 'zip':\n",
    "    input_files = [x for x in input_files if x.endswith('.zip')]\n",
    "elif sourcetype == 'gif':\n",
    "    input_files = [x for x in input_files if x.endswith('.gif')]\n",
    "else:\n",
    "    print('ERROR: INVALID SOURCETYPE ...')\n",
    "\n",
    "# Descomprimir los zip\n",
    "    \n",
    "if sourcetype == 'zip':\n",
    "\n",
    "    for f in input_files:\n",
    "        unzip_file(infolder + f, infolder + 'unzip/')\n",
    "        \n",
    "    infolder = infolder + 'unzip/'\n",
    "    input_files = os.listdir(infolder)\n",
    "\n",
    "\n",
    "# Cargar gifs\n",
    "if sourcetype == 'zip' or sourcetype == 'gif':\n",
    "\n",
    "    input_names = [x.split('.gif')[0] for x in input_files]\n",
    "    input_paths = [infolder +  x for x in input_files]\n",
    "\n",
    "    gfiles = []\n",
    "    for i in tqdm.tqdm(range(len(input_files)), ncols=100, desc='Loading gif files'):\n",
    "        gfiles.append({'name':input_names[i], 'file':input_files[i], 'path':input_paths[i]})\n",
    "\n",
    "gfiles"
   ]
  },
  {
   "cell_type": "code",
   "execution_count": 47,
   "metadata": {},
   "outputs": [
    {
     "name": "stdout",
     "output_type": "stream",
     "text": [
      "Moviepy - Building video video_builder/output/demo1.mp4.\n",
      "Moviepy - Writing video video_builder/output/demo1.mp4\n",
      "\n"
     ]
    },
    {
     "name": "stderr",
     "output_type": "stream",
     "text": [
      "                                                   \r"
     ]
    },
    {
     "name": "stdout",
     "output_type": "stream",
     "text": [
      "Moviepy - Done !\n",
      "Moviepy - video ready video_builder/output/demo1.mp4\n",
      "\n",
      " --------------------------------------\n",
      "Moviepy - Building video video_builder/output/demo2.mp4.\n",
      "Moviepy - Writing video video_builder/output/demo2.mp4\n",
      "\n"
     ]
    },
    {
     "name": "stderr",
     "output_type": "stream",
     "text": [
      "                                                   \r"
     ]
    },
    {
     "name": "stdout",
     "output_type": "stream",
     "text": [
      "Moviepy - Done !\n",
      "Moviepy - video ready video_builder/output/demo2.mp4\n",
      "\n",
      " --------------------------------------\n",
      "Moviepy - Building video video_builder/output/nsfw1.mp4.\n",
      "Moviepy - Writing video video_builder/output/nsfw1.mp4\n",
      "\n"
     ]
    },
    {
     "name": "stderr",
     "output_type": "stream",
     "text": [
      "                                                             \r"
     ]
    },
    {
     "name": "stdout",
     "output_type": "stream",
     "text": [
      "Moviepy - Done !\n",
      "Moviepy - video ready video_builder/output/nsfw1.mp4\n",
      "\n",
      " --------------------------------------\n",
      "Moviepy - Building video video_builder/output/nsfw2.mp4.\n",
      "Moviepy - Writing video video_builder/output/nsfw2.mp4\n",
      "\n"
     ]
    },
    {
     "name": "stderr",
     "output_type": "stream",
     "text": [
      "                                                             \r"
     ]
    },
    {
     "name": "stdout",
     "output_type": "stream",
     "text": [
      "Moviepy - Done !\n",
      "Moviepy - video ready video_builder/output/nsfw2.mp4\n",
      "\n",
      " --------------------------------------\n"
     ]
    }
   ],
   "source": [
    "for i in range(len(input_files)):\n",
    "\n",
    "    input_value = gfiles[i]['path']\n",
    "    output_value = outfolder + gfiles[i]['name'] + '.mp4'\n",
    "\n",
    "    create_video(input_value, output_value)\n",
    "    print('\\n --------------------------------------')"
   ]
  },
  {
   "cell_type": "code",
   "execution_count": 36,
   "metadata": {},
   "outputs": [],
   "source": [
    "shutil.rmtree(infolder)"
   ]
  },
  {
   "cell_type": "code",
   "execution_count": 40,
   "metadata": {},
   "outputs": [
    {
     "ename": "KeyError",
     "evalue": "'gif'",
     "output_type": "error",
     "traceback": [
      "\u001b[1;31m---------------------------------------------------------------------------\u001b[0m",
      "\u001b[1;31mKeyError\u001b[0m                                  Traceback (most recent call last)",
      "Cell \u001b[1;32mIn[40], line 4\u001b[0m\n\u001b[0;32m      1\u001b[0m \u001b[38;5;28;01mimport\u001b[39;00m \u001b[38;5;21;01mimageio\u001b[39;00m\n\u001b[0;32m      3\u001b[0m \u001b[38;5;28;01mfor\u001b[39;00m gf \u001b[38;5;129;01min\u001b[39;00m gfiles:\n\u001b[1;32m----> 4\u001b[0m     imageio\u001b[38;5;241m.\u001b[39mmimsave(gf[\u001b[38;5;124m'\u001b[39m\u001b[38;5;124mpath\u001b[39m\u001b[38;5;124m'\u001b[39m], \u001b[43mgf\u001b[49m\u001b[43m[\u001b[49m\u001b[38;5;124;43m'\u001b[39;49m\u001b[38;5;124;43mgif\u001b[39;49m\u001b[38;5;124;43m'\u001b[39;49m\u001b[43m]\u001b[49m)\n",
      "\u001b[1;31mKeyError\u001b[0m: 'gif'"
     ]
    }
   ],
   "source": [
    "import imageio\n",
    "\n",
    "for gf in gfiles:\n",
    "    imageio.mimsave(gf['path'], gf['gif'])"
   ]
  }
 ],
 "metadata": {
  "kernelspec": {
   "display_name": "img",
   "language": "python",
   "name": "python3"
  },
  "language_info": {
   "codemirror_mode": {
    "name": "ipython",
    "version": 3
   },
   "file_extension": ".py",
   "mimetype": "text/x-python",
   "name": "python",
   "nbconvert_exporter": "python",
   "pygments_lexer": "ipython3",
   "version": "3.11.7"
  }
 },
 "nbformat": 4,
 "nbformat_minor": 2
}
