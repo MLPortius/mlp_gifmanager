{
 "cells": [
  {
   "cell_type": "code",
   "execution_count": 41,
   "metadata": {},
   "outputs": [],
   "source": [
    "#%% IMPORTAR LIBRERIAS\n",
    "import os\n",
    "import time\n",
    "import tqdm\n",
    "import argparse\n",
    "import shutil\n",
    "import zipfile\n",
    "\n",
    "import warnings\n",
    "warnings.filterwarnings('ignore')\n",
    "\n",
    "from moviepy.editor import VideoFileClip\n"
   ]
  },
  {
   "cell_type": "code",
   "execution_count": 42,
   "metadata": {},
   "outputs": [],
   "source": [
    "#%% CONFIGURAR ENTORNO\n",
    "infolder = 'video_builder/input/'\n",
    "outfolder = 'video_builder/output/'"
   ]
  },
  {
   "cell_type": "code",
   "execution_count": 3,
   "metadata": {},
   "outputs": [
    {
     "name": "stdout",
     "output_type": "stream",
     "text": [
      "Change directory: d:\\Users\\Andriu\\Main\\DOCUMENTOS\\3. MACHINE LEARNING\\PYTHON_PROYECTS\\mlp_gifmanager\\.notebooks >>> d:\\Users\\Andriu\\Main\\DOCUMENTOS\\3. MACHINE LEARNING\\PYTHON_PROYECTS\\mlp_gifmanager\n"
     ]
    }
   ],
   "source": [
    "# cambiar directorio de trabajo a la carpeta anterior\n",
    "original_wdir = os.getcwd()\n",
    "os.chdir('../')\n",
    "new_wdir = os.getcwd() \n",
    "\n",
    "print('Change directory:', original_wdir, '>>>', new_wdir)\n",
    "# os.chdir(infolder)"
   ]
  },
  {
   "cell_type": "code",
   "execution_count": 43,
   "metadata": {},
   "outputs": [],
   "source": [
    "sourcetype = 'gif' # ['zip', 'gif']"
   ]
  },
  {
   "cell_type": "code",
   "execution_count": 45,
   "metadata": {},
   "outputs": [],
   "source": [
    "def unzip_file(inpath, outpath):\n",
    "    with zipfile.ZipFile(inpath, 'r') as zip_ref:\n",
    "        zip_ref.extractall(outpath)\n",
    "\n",
    "def create_video(input, output):\n",
    "    clip = VideoFileClip(input)\n",
    "    clip.write_videofile(output, codec='libx264')\n",
    "    clip.close()"
   ]
  },
  {
   "cell_type": "code",
   "execution_count": 46,
   "metadata": {},
   "outputs": [
    {
     "name": "stderr",
     "output_type": "stream",
     "text": [
      "Loading gif files: 100%|██████████████████████████████████████████████████████| 4/4 [00:00<?, ?it/s]\n"
     ]
    },
    {
     "data": {
      "text/plain": [
       "[{'name': 'demo1',\n",
       "  'file': 'demo1.gif',\n",
       "  'path': 'video_builder/input/demo1.gif'},\n",
       " {'name': 'demo2',\n",
       "  'file': 'demo2.gif',\n",
       "  'path': 'video_builder/input/demo2.gif'},\n",
       " {'name': 'nsfw1',\n",
       "  'file': 'nsfw1.gif',\n",
       "  'path': 'video_builder/input/nsfw1.gif'},\n",
       " {'name': 'nsfw2',\n",
       "  'file': 'nsfw2.gif',\n",
       "  'path': 'video_builder/input/nsfw2.gif'}]"
      ]
     },
     "execution_count": 46,
     "metadata": {},
     "output_type": "execute_result"
    }
   ],
   "source": [
    "# Si es zip, crear una carpeta:\n",
    "\n",
    "if sourcetype == 'zip':\n",
    "    try:\n",
    "        unzip_exists = os.path.isdir(infolder + 'unzip/')\n",
    "    except:\n",
    "        unzip_exists = False\n",
    "\n",
    "    if unzip_exists:\n",
    "        shutil.rmtree(infolder + 'unzip/')\n",
    "    else:\n",
    "        os.mkdir(infolder + 'unzip/')\n",
    "\n",
    "input_files = os.listdir(infolder)\n",
    "\n",
    "# Leer carpeta de archivos\n",
    "\n",
    "if sourcetype == 'zip':\n",
    "    input_files = [x for x in input_files if x.endswith('.zip')]\n",
    "elif sourcetype == 'gif':\n",
    "    input_files = [x for x in input_files if x.endswith('.gif')]\n",
    "else:\n",
    "    print('ERROR: INVALID SOURCETYPE ...')\n",
    "\n",
    "# Descomprimir los zip\n",
    "    \n",
    "if sourcetype == 'zip':\n",
    "\n",
    "    for f in input_files:\n",
    "        unzip_file(infolder + f, infolder + 'unzip/')\n",
    "        \n",
    "    infolder = infolder + 'unzip/'\n",
    "    input_files = os.listdir(infolder)\n",
    "\n",
    "# Cargar gifs\n",
    "if sourcetype == 'zip' or sourcetype == 'gif':\n",
    "\n",
    "    input_names = [x.split('.gif')[0] for x in input_files]\n",
    "    input_paths = [infolder +  x for x in input_files]\n",
    "\n",
    "    gfiles = []\n",
    "    for i in tqdm.tqdm(range(len(input_files)), ncols=100, desc='Loading gif files'):\n",
    "        gfiles.append({'name':input_names[i], 'file':input_files[i], 'path':input_paths[i]})\n",
    "\n",
    "gfiles"
   ]
  },
  {
   "cell_type": "code",
   "execution_count": 47,
   "metadata": {},
   "outputs": [
    {
     "name": "stdout",
     "output_type": "stream",
     "text": [
      "Moviepy - Building video video_builder/output/demo1.mp4.\n",
      "Moviepy - Writing video video_builder/output/demo1.mp4\n",
      "\n"
     ]
    },
    {
     "name": "stderr",
     "output_type": "stream",
     "text": [
      "                                                   \r"
     ]
    },
    {
     "name": "stdout",
     "output_type": "stream",
     "text": [
      "Moviepy - Done !\n",
      "Moviepy - video ready video_builder/output/demo1.mp4\n",
      "\n",
      " --------------------------------------\n",
      "Moviepy - Building video video_builder/output/demo2.mp4.\n",
      "Moviepy - Writing video video_builder/output/demo2.mp4\n",
      "\n"
     ]
    },
    {
     "name": "stderr",
     "output_type": "stream",
     "text": [
      "                                                   \r"
     ]
    },
    {
     "name": "stdout",
     "output_type": "stream",
     "text": [
      "Moviepy - Done !\n",
      "Moviepy - video ready video_builder/output/demo2.mp4\n",
      "\n",
      " --------------------------------------\n",
      "Moviepy - Building video video_builder/output/nsfw1.mp4.\n",
      "Moviepy - Writing video video_builder/output/nsfw1.mp4\n",
      "\n"
     ]
    },
    {
     "name": "stderr",
     "output_type": "stream",
     "text": [
      "                                                             \r"
     ]
    },
    {
     "name": "stdout",
     "output_type": "stream",
     "text": [
      "Moviepy - Done !\n",
      "Moviepy - video ready video_builder/output/nsfw1.mp4\n",
      "\n",
      " --------------------------------------\n",
      "Moviepy - Building video video_builder/output/nsfw2.mp4.\n",
      "Moviepy - Writing video video_builder/output/nsfw2.mp4\n",
      "\n"
     ]
    },
    {
     "name": "stderr",
     "output_type": "stream",
     "text": [
      "                                                             \r"
     ]
    },
    {
     "name": "stdout",
     "output_type": "stream",
     "text": [
      "Moviepy - Done !\n",
      "Moviepy - video ready video_builder/output/nsfw2.mp4\n",
      "\n",
      " --------------------------------------\n"
     ]
    }
   ],
   "source": [
    "for i in range(len(input_files)):\n",
    "\n",
    "    input_value = gfiles[i]['path']\n",
    "    output_value = outfolder + gfiles[i]['name'] + '.mp4'\n",
    "\n",
    "    create_video(input_value, output_value)\n",
    "    print('\\n --------------------------------------')"
   ]
  }
 ],
 "metadata": {
  "kernelspec": {
   "display_name": "img",
   "language": "python",
   "name": "python3"
  },
  "language_info": {
   "codemirror_mode": {
    "name": "ipython",
    "version": 3
   },
   "file_extension": ".py",
   "mimetype": "text/x-python",
   "name": "python",
   "nbconvert_exporter": "python",
   "pygments_lexer": "ipython3",
   "version": "3.11.7"
  }
 },
 "nbformat": 4,
 "nbformat_minor": 2
}
